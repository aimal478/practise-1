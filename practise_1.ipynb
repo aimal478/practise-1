{
  "nbformat": 4,
  "nbformat_minor": 0,
  "metadata": {
    "colab": {
      "provenance": [],
      "authorship_tag": "ABX9TyOH0x4txjASSl/e+MYvjp2n",
      "include_colab_link": true
    },
    "kernelspec": {
      "name": "python3",
      "display_name": "Python 3"
    },
    "language_info": {
      "name": "python"
    }
  },
  "cells": [
    {
      "cell_type": "markdown",
      "metadata": {
        "id": "view-in-github",
        "colab_type": "text"
      },
      "source": [
        "<a href=\"https://colab.research.google.com/github/aimal478/practise-1/blob/main/practise_1.ipynb\" target=\"_parent\"><img src=\"https://colab.research.google.com/assets/colab-badge.svg\" alt=\"Open In Colab\"/></a>"
      ]
    },
    {
      "cell_type": "code",
      "source": [
        "# Simple Calculator\n",
        "\n",
        "def calculator():\n",
        "    print(\"Select operation:\")\n",
        "    print(\"1. Addition (+)\")\n",
        "    print(\"2. Subtraction (-)\")\n",
        "    print(\"3. Multiplication (*)\")\n",
        "    print(\"4. Division (/)\")\n",
        "\n",
        "    operation = input(\"Enter the number (1/2/3/4): \")\n",
        "\n",
        "    try:\n",
        "        num1 = float(input(\"Enter first number: \"))\n",
        "        num2 = float(input(\"Enter second number: \"))\n",
        "\n",
        "        if operation == '1':\n",
        "            result = num1 + num2\n",
        "            print(f\"Result: {num1} + {num2} = {result}\")\n",
        "        elif operation == '2':\n",
        "            result = num1 - num2\n",
        "            print(f\"Result: {num1} - {num2} = {result}\")\n",
        "        elif operation == '3':\n",
        "            result = num1 * num2\n",
        "            print(f\"Result: {num1} * {num2} = {result}\")\n",
        "        elif operation == '4':\n",
        "            if num2 != 0:\n",
        "                result = num1 / num2\n",
        "                print(f\"Result: {num1} / {num2} = {result}\")\n",
        "            else:\n",
        "                print(\"Error: Division by zero is not allowed.\")\n",
        "        else:\n",
        "            print(\"Invalid operation. Please choose 1, 2, 3, or 4.\")\n",
        "\n",
        "    except ValueError:\n",
        "        print(\"Invalid input. Please enter numeric values.\")\n",
        "\n",
        "# Run the calculator\n",
        "calculator()\n"
      ],
      "metadata": {
        "colab": {
          "base_uri": "https://localhost:8080/"
        },
        "id": "4oEquh58mQlN",
        "outputId": "506e4080-6a90-4d53-dc37-cd2a3f434ec8"
      },
      "execution_count": 2,
      "outputs": [
        {
          "output_type": "stream",
          "name": "stdout",
          "text": [
            "Select operation:\n",
            "1. Addition (+)\n",
            "2. Subtraction (-)\n",
            "3. Multiplication (*)\n",
            "4. Division (/)\n",
            "Enter the number (1/2/3/4): 1\n",
            "Enter first number: 4\n",
            "Enter second number: 1\n",
            "Result: 4.0 + 1.0 = 5.0\n"
          ]
        }
      ]
    }
  ]
}